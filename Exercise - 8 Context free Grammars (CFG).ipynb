{
 "cells": [
  {
   "cell_type": "markdown",
   "metadata": {},
   "source": [
    "# Simple CFG Parsing"
   ]
  },
  {
   "cell_type": "code",
   "execution_count": 1,
   "metadata": {},
   "outputs": [],
   "source": [
    "import nltk"
   ]
  },
  {
   "cell_type": "code",
   "execution_count": 2,
   "metadata": {},
   "outputs": [],
   "source": [
    "grammar=nltk.CFG.fromstring(\"\"\"\n",
    "S -> NP VP\n",
    "NP -> Det N\n",
    "VP -> V NP\n",
    "Det -> 'the'\n",
    "N -> 'dog'\n",
    "N -> 'cat'\n",
    "V -> 'chased'\n",
    "V -> 'saw'\n",
    "\"\"\")"
   ]
  },
  {
   "cell_type": "code",
   "execution_count": 3,
   "metadata": {},
   "outputs": [
    {
     "name": "stdout",
     "output_type": "stream",
     "text": [
      "(S (NP (Det the) (N dog)) (VP (V chased) (NP (Det the) (N cat))))\n"
     ]
    }
   ],
   "source": [
    "parser=nltk.ChartParser(grammar)\n",
    "sentence=['the','dog','chased','the','cat']\n",
    "for tree in parser.parse(sentence):\n",
    "    print(tree)"
   ]
  },
  {
   "cell_type": "markdown",
   "metadata": {},
   "source": [
    "# Advanced CFG with Ambiguity Resolution"
   ]
  },
  {
   "cell_type": "code",
   "execution_count": 6,
   "metadata": {},
   "outputs": [],
   "source": [
    "grammar=nltk.CFG.fromstring(\"\"\"\n",
    "S -> NP VP\n",
    "NP -> Det N|N\n",
    "VP -> V NP\n",
    "Det -> 'the'\n",
    "N -> 'dog'|'cat'\n",
    "V -> 'chased'\n",
    "\"\"\")"
   ]
  },
  {
   "cell_type": "code",
   "execution_count": 11,
   "metadata": {},
   "outputs": [
    {
     "name": "stdout",
     "output_type": "stream",
     "text": [
      "(S (NP (Det the) (N cat)) (VP (V chased) (NP (N dog))))\n",
      "             S                \n",
      "      _______|__________       \n",
      "     |                  VP    \n",
      "     |             _____|___   \n",
      "     NP           |         NP\n",
      "  ___|___         |         |  \n",
      "Det      N        V         N \n",
      " |       |        |         |  \n",
      "the     cat     chased     dog\n",
      "\n"
     ]
    }
   ],
   "source": [
    "parser=nltk.ChartParser(grammar)\n",
    "sentence=['the','cat','chased','dog']\n",
    "for tree in parser.parse(sentence):\n",
    "    print(tree)\n",
    "    tree.pretty_print()"
   ]
  },
  {
   "cell_type": "code",
   "execution_count": null,
   "metadata": {},
   "outputs": [],
   "source": []
  }
 ],
 "metadata": {
  "kernelspec": {
   "display_name": "Python 3",
   "language": "python",
   "name": "python3"
  },
  "language_info": {
   "codemirror_mode": {
    "name": "ipython",
    "version": 3
   },
   "file_extension": ".py",
   "mimetype": "text/x-python",
   "name": "python",
   "nbconvert_exporter": "python",
   "pygments_lexer": "ipython3",
   "version": "3.7.1"
  }
 },
 "nbformat": 4,
 "nbformat_minor": 2
}
