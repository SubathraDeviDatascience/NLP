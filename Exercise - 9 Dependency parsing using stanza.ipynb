{
 "cells": [
  {
   "cell_type": "markdown",
   "metadata": {},
   "source": [
    "# Simple dependency parsing using stanza"
   ]
  },
  {
   "cell_type": "code",
   "execution_count": 1,
   "metadata": {},
   "outputs": [],
   "source": [
    "import stanza"
   ]
  },
  {
   "cell_type": "code",
   "execution_count": 2,
   "metadata": {},
   "outputs": [
    {
     "name": "stderr",
     "output_type": "stream",
     "text": [
      "2025-07-30 09:09:09 INFO: Checking for updates to resources.json in case models have been updated.  Note: this behavior can be turned off with download_method=None or download_method=DownloadMethod.REUSE_RESOURCES\n"
     ]
    },
    {
     "data": {
      "application/vnd.jupyter.widget-view+json": {
       "model_id": "1ac2373cf3494efb892722bb2e5793b9",
       "version_major": 2,
       "version_minor": 0
      },
      "text/plain": [
       "HBox(children=(IntProgress(value=0, description='Downloading https://raw.githubusercontent.com/stanfordnlp/sta…"
      ]
     },
     "metadata": {},
     "output_type": "display_data"
    },
    {
     "name": "stdout",
     "output_type": "stream",
     "text": [
      "\n"
     ]
    },
    {
     "name": "stderr",
     "output_type": "stream",
     "text": [
      "2025-07-30 09:09:10 INFO: Loading these models for language: en (English):\n",
      "======================================\n",
      "| Processor    | Package             |\n",
      "--------------------------------------\n",
      "| tokenize     | combined            |\n",
      "| pos          | combined_charlm     |\n",
      "| lemma        | combined_nocharlm   |\n",
      "| constituency | ptb3-revised_charlm |\n",
      "| depparse     | combined_charlm     |\n",
      "| sentiment    | sstplus             |\n",
      "| ner          | ontonotes_charlm    |\n",
      "======================================\n",
      "\n",
      "2025-07-30 09:09:10 INFO: Using device: cpu\n",
      "2025-07-30 09:09:10 INFO: Loading: tokenize\n",
      "2025-07-30 09:09:10 INFO: Loading: pos\n",
      "2025-07-30 09:09:10 INFO: Loading: lemma\n",
      "2025-07-30 09:09:11 INFO: Loading: constituency\n",
      "2025-07-30 09:09:11 INFO: Loading: depparse\n",
      "2025-07-30 09:09:11 INFO: Loading: sentiment\n",
      "2025-07-30 09:09:11 INFO: Loading: ner\n",
      "2025-07-30 09:09:12 INFO: Done loading processors!\n"
     ]
    }
   ],
   "source": [
    "#Load English Pipeline\n",
    "nlp=stanza.Pipeline('en')"
   ]
  },
  {
   "cell_type": "code",
   "execution_count": 3,
   "metadata": {},
   "outputs": [],
   "source": [
    "#Input Sentence\n",
    "sentence=\"The quick brown fox jumps over the lazy dog\""
   ]
  },
  {
   "cell_type": "code",
   "execution_count": 4,
   "metadata": {},
   "outputs": [],
   "source": [
    "#Process the sentence\n",
    "doc=nlp(sentence)"
   ]
  },
  {
   "cell_type": "code",
   "execution_count": 5,
   "metadata": {},
   "outputs": [
    {
     "name": "stdout",
     "output_type": "stream",
     "text": [
      "Word \t Head \t Relation\n",
      "The \t fox \t det\n",
      "quick \t fox \t amod\n",
      "brown \t fox \t amod\n",
      "fox \t jumps \t nsubj\n",
      "jumps \t ROOT \t root\n",
      "over \t dog \t case\n",
      "the \t dog \t det\n",
      "lazy \t dog \t amod\n",
      "dog \t jumps \t obl\n"
     ]
    }
   ],
   "source": [
    "#Print dependencies\n",
    "print(\"Word \\t Head \\t Relation\")\n",
    "for sent in doc.sentences:\n",
    "    for word in sent.words:\n",
    "        head=sent.words[word.head-1].text if word.head>0 else \"ROOT\"\n",
    "        print(f\"{word.text} \\t {head} \\t {word.deprel}\")"
   ]
  },
  {
   "cell_type": "markdown",
   "metadata": {},
   "source": [
    "# Advanced Dependency tree visualization using networkx + matplotlib"
   ]
  },
  {
   "cell_type": "code",
   "execution_count": 6,
   "metadata": {},
   "outputs": [],
   "source": [
    "import stanza\n",
    "import networkx as nx\n",
    "import matplotlib.pyplot as plt"
   ]
  },
  {
   "cell_type": "code",
   "execution_count": 7,
   "metadata": {},
   "outputs": [
    {
     "name": "stderr",
     "output_type": "stream",
     "text": [
      "2025-07-30 09:09:48 INFO: Checking for updates to resources.json in case models have been updated.  Note: this behavior can be turned off with download_method=None or download_method=DownloadMethod.REUSE_RESOURCES\n"
     ]
    },
    {
     "data": {
      "application/vnd.jupyter.widget-view+json": {
       "model_id": "e6b5140b9d53417f8f92af57827a4498",
       "version_major": 2,
       "version_minor": 0
      },
      "text/plain": [
       "HBox(children=(IntProgress(value=0, description='Downloading https://raw.githubusercontent.com/stanfordnlp/sta…"
      ]
     },
     "metadata": {},
     "output_type": "display_data"
    },
    {
     "name": "stdout",
     "output_type": "stream",
     "text": [
      "\n"
     ]
    },
    {
     "name": "stderr",
     "output_type": "stream",
     "text": [
      "2025-07-30 09:09:49 INFO: Loading these models for language: en (English):\n",
      "======================================\n",
      "| Processor    | Package             |\n",
      "--------------------------------------\n",
      "| tokenize     | combined            |\n",
      "| pos          | combined_charlm     |\n",
      "| lemma        | combined_nocharlm   |\n",
      "| constituency | ptb3-revised_charlm |\n",
      "| depparse     | combined_charlm     |\n",
      "| sentiment    | sstplus             |\n",
      "| ner          | ontonotes_charlm    |\n",
      "======================================\n",
      "\n",
      "2025-07-30 09:09:49 INFO: Using device: cpu\n",
      "2025-07-30 09:09:49 INFO: Loading: tokenize\n",
      "2025-07-30 09:09:49 INFO: Loading: pos\n",
      "2025-07-30 09:09:50 INFO: Loading: lemma\n",
      "2025-07-30 09:09:50 INFO: Loading: constituency\n",
      "2025-07-30 09:09:50 INFO: Loading: depparse\n",
      "2025-07-30 09:09:50 INFO: Loading: sentiment\n",
      "2025-07-30 09:09:50 INFO: Loading: ner\n",
      "2025-07-30 09:09:51 INFO: Done loading processors!\n"
     ]
    }
   ],
   "source": [
    "#Load NLP Pipeline\n",
    "nlp=stanza.Pipeline('en')\n",
    "sentence=\"The quick brown fox jumps over the lazy dog\"\n",
    "doc=nlp(sentence)\n",
    "G=nx.DiGraph()\n",
    "for sent in doc.sentences:\n",
    "    for word in sent.words:\n",
    "        head_text=\"ROOT\" if word.head==0 else sent.words[word.head-1].text\n",
    "        G.add_edge(head_text,word.text,label=word.deprel)"
   ]
  },
  {
   "cell_type": "code",
   "execution_count": 8,
   "metadata": {},
   "outputs": [
    {
     "data": {
      "image/png": "[encoded data removed]",
      "text/plain": [
       "<Figure size 432x288 with 1 Axes>"
      ]
     },
     "metadata": {},
     "output_type": "display_data"
    }
   ],
   "source": [
    "#Draw the graph\n",
    "pos=nx.spring_layout(G)\n",
    "labels=nx.get_edge_attributes(G,'label')\n",
    "nx.draw(G,pos,with_labels=True,node_size=2000, node_color='lightblue', font_size=10)\n",
    "nx.draw_networkx_edge_labels(G,pos,edge_labels=labels,font_color='red')\n",
    "plt.title(\"Dependency Parse Tree\")\n",
    "plt.show()"
   ]
  }
 ],
 "metadata": {
  "kernelspec": {
   "display_name": "Python 3",
   "language": "python",
   "name": "python3"
  },
  "language_info": {
   "codemirror_mode": {
    "name": "ipython",
    "version": 3
   },
   "file_extension": ".py",
   "mimetype": "text/x-python",
   "name": "python",
   "nbconvert_exporter": "python",
   "pygments_lexer": "ipython3",
   "version": "3.7.1"
  }
 },
 "nbformat": 4,
 "nbformat_minor": 2
}
